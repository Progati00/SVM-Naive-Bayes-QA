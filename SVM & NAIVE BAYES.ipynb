{
 "cells": [
  {
   "cell_type": "markdown",
   "id": "e8891fe5",
   "metadata": {},
   "source": [
    "# 1: What is a Support Vector Machine (SVM)?\n",
    "\n",
    "\n",
    "### A Support Vector Machine (SVM) is a supervised machine learning algorithm used for classification and regression tasks. It is particularly effective for high-dimensional spaces and is widely used for tasks like image classification, text categorization, and bioinformatics. The goal of SVM is to find the optimal hyperplane that best separates the data points of different classes in the feature space. The hyperplane is chosen such that it maximizes the margin, which is the distance between the hyperplane and the nearest data points from each class (called support vectors).\n",
    "\n",
    "\n",
    "# 2: What is the difference between Hard Margin and Soft Margin SVM?\n",
    "\n",
    "\n",
    "### Hard Margin SVM: Assumes that the data is perfectly linearly separable. Aims to find a hyperplane that perfectly separates the classes without any misclassification. Sensitive to outliers and noise, as it requires strict separation. Not suitable for datasets that are not linearly separable.\n",
    "\n",
    "### Soft Margin SVM: Allows for some misclassification by introducing a slack variable (ξ) to tolerate errors. Uses a regularization parameter (C) to control the trade-off between maximizing the margin and minimizing classification errors. More robust to noise and outliers, making it suitable for real-world datasets that may not be perfectly separable."
   ]
  },
  {
   "cell_type": "markdown",
   "id": "1f243b6c",
   "metadata": {},
   "source": [
    "# 3: What is the mathematical intuition behind SVM?\n",
    "\n",
    "\n",
    "### The mathematical intuition behind SVM revolves around finding the optimal hyperplane that maximizes the margin between two classes. \n",
    "### A hyperplane in an n-dimensional space is defined by the equation:  w⋅x+b=0\n",
    "### where  w is the weight vector,  x is the feature vector, and  b is the bias term.\n",
    "\n",
    "### The margin is the distance between the hyperplane and the nearest data points (support vectors). The goal is to maximize this margin, which is equivalent to minimizing ∥w∥^2  (the norm of the weight vector).\n",
    "\n",
    "### For correct classification, the following constraints must be satisfied: yi(w⋅xi + b) ≥ 1 for all i\n",
    "### where yi is the class label (either +1 or -1).\n",
    "\n",
    "\n",
    "### The SVM optimization problem can be formulated as:\n",
    "\n",
    "### min (1/2)∥w∥^2 , subject to yi(w⋅xi + b) ≥ 1 for all i\n",
    "### ⁡w,b"
   ]
  },
  {
   "cell_type": "markdown",
   "id": "d1be9a21",
   "metadata": {},
   "source": [
    "# 4: What is the role of Lagrange Multipliers in SVM?\n",
    "\n",
    "\n",
    "### Lagrange multipliers are used in SVM to solve the constrained optimization problem. The key steps are:\n",
    "\n",
    "### Lagrangian Formulation: The constrained optimization problem is converted into an unconstrained problem using Lagrange multipliers (αi).\n",
    "### Dual Problem: The primal problem (minimizing L with respect to w and b) is transformed into a dual problem (maximizing L with respect to αi). The dual problem is often easier to solve and provides insights into the role of support vectors.\n",
    "### Karush-Kuhn-Tucker (KKT) Conditions: The solution must satisfy the KKT conditions, which include:\n",
    "### αi ≥ 0\n",
    "### yi(w⋅xi + b) - 1 ≥ 0 \n",
    "### αi [yi(w⋅xi + b) - 1 ] = 0\n"
   ]
  },
  {
   "cell_type": "markdown",
   "id": "593588b2",
   "metadata": {},
   "source": [
    "# 5: What are Support Vectors in SVM?\n",
    "\n",
    "\n",
    "### Support Vectors are the data points that lie closest to the hyperplane and directly influence the position and orientation of the hyperplane. They are the critical elements of the dataset because they define the margin and are used to determine the optimal separating hyperplane."
   ]
  },
  {
   "cell_type": "markdown",
   "id": "0c08ce47",
   "metadata": {},
   "source": [
    "# 6: What is a Support Vector Classifier (SVC)?\n",
    "\n",
    "\n",
    "### A Support Vector Classifier (SVC) is a specific implementation of SVM used for classification tasks. It aims to find the optimal hyperplane that separates data points of different classes while maximizing the margin. SVC can handle both linear and non-linear classification by using different kernel functions (e.g., linear, polynomial, or radial basis function (RBF)). It is particularly effective for high-dimensional datasets and is widely used in applications like text classification, image recognition, and bioinformatics.\n",
    "\n",
    "\n",
    "# 7: What is a Support Vector Regressor (SVR)?\n",
    "\n",
    "\n",
    "### A Support Vector Regressor (SVR) is an adaptation of SVM for regression tasks. Instead of classifying data points, SVR aims to predict continuous values by finding a hyperplane that best fits the data while allowing some deviation (controlled by a parameter ϵ). SVR uses the same principles as SVM but modifies the objective to minimize the error within a tolerance margin.\n",
    "\n",
    "\n",
    "# 8: What is the Kernel Trick in SVM?\n",
    "\n",
    "\n",
    "### The kernel trick is a mathematical technique used in SVM to handle non-linearly separable data by transforming the input data into a higher-dimensional space where it becomes linearly separable. Instead of explicitly computing the transformation, the kernel trick uses a kernel function to compute the dot product of the transformed data points directly in the original space.\n",
    "\n",
    "# 9: Compare Linear Kernel, Polynomial Kernel, and RBF Kernel?\n",
    "\n",
    "\n",
    "### The Linear Kernel is simple and fast, ideal for linearly separable data but cannot handle non-linear relationships. The Polynomial Kernel captures polynomial patterns and is useful for data with curved decision boundaries, but it requires tuning of parameters like degree. The RBF Kernel (Gaussian) is highly flexible and works well for complex, non-linear data, making it the most widely used kernel, though it can be computationally intensive and harder to interpret. Linear is best for simplicity, Polynomial for moderate complexity, and RBF for highly non-linear problems."
   ]
  },
  {
   "cell_type": "markdown",
   "id": "cfcf129f",
   "metadata": {},
   "source": [
    "# 10: What is the effect of the C parameter in SVM?\n",
    "\n",
    "\n",
    "### The C parameter in SVM controls the trade-off between maximizing the margin and minimizing classification errors (or regression errors in SVR). It is a regularization parameter that influences the model's behavior:\n",
    "\n",
    "### Small C: Emphasizes a larger margin. Allows more misclassifications (soft margin). Results in a simpler model with lower risk of overfitting. Suitable for datasets with noise or outliers.\n",
    "\n",
    "### Large C: Emphasizes correct classification of training data. Reduces the margin and allows fewer misclassifications. May lead to overfitting, especially in noisy datasets. Suitable for datasets where the data is clean and well-separated."
   ]
  },
  {
   "cell_type": "markdown",
   "id": "c6eba37f",
   "metadata": {},
   "source": [
    "# 11: What is the role of the Gamma parameter in RBF Kernel SVM?\n",
    "\n",
    "\n",
    "### The Gamma (γ) parameter in the RBF (Radial Basis Function) Kernel controls the influence of individual training examples. A small γ means the influence of a single data point extends farther, resulting in smoother decision boundaries. A large γ makes the model focus more on nearby points, leading to more complex, wiggly decision boundaries. Choosing the right γ is crucial: too small can cause underfitting, while too large can cause overfitting.\n",
    "\n",
    "\n",
    "# 12: What is the Naïve Bayes classifier, and why is it called \"Naïve\"?\n",
    "\n",
    "\n",
    "### The Naïve Bayes classifier is a probabilistic machine learning algorithm based on Bayes’ Theorem. It is called \"Naïve\" because it makes a strong assumption that all features are independent of each other given the class label, which is often not true in real-world data. Despite this simplification, Naïve Bayes is highly efficient and works well for many tasks, especially text classification.\n",
    "\n",
    "\n",
    "# 13: What is Bayes’ Theorem?\n",
    "\n",
    "### Bayes’ Theorem is a fundamental principle in probability that describes how to update the probability of an event based on prior knowledge. It is mathematically expressed as: P(A∣B)= P(B∣A)⋅P(A) / P(B)\n",
    "\n",
    "\n",
    "# 14: Explain the differences between Gaussian Naïve Bayes, Multinomial Naïve Bayes, and Bernoulli Naïve Bayes?\n",
    "\n",
    "\n",
    "### Gaussian Naïve Bayes: Assumes features follow a Gaussian (normal) distribution. It is used for continuous data.\n",
    "### Multinomial Naïve Bayes: Assumes features represent counts or frequencies (e.g., word counts in text). It is commonly used for discrete data like text classification.\n",
    "### Bernoulli Naïve Bayes: Assumes features are binary (0 or 1). It is useful for binary data, such as the presence or absence of words in text.\n",
    "\n",
    "\n",
    "# 15: When should you use Gaussian Naïve Bayes over other variants?\n",
    "\n",
    "### Use Gaussian Naïve Bayes when your features are continuous and can be reasonably assumed to follow a normal distribution. It is commonly used in tasks like medical diagnosis or any domain where the input data is continuous and not discrete.\n",
    "\n",
    "\n",
    "# 16: What are the key assumptions made by Naïve Bayes?\n",
    "\n",
    "### Feature Independence: All features are assumed to be independent of each other given the class label.\n",
    "### Class-Conditional Distribution: The distribution of features given the class is assumed to follow a specific form (e.g., Gaussian, Multinomial, or Bernoulli).\n",
    "\n",
    "\n",
    "# 17: What are the advantages and disadvantages of Naïve Bayes?\n",
    "\n",
    "\n",
    "### Advantages: Simple, fast, and efficient. Works well with high-dimensional data. Requires less training data. Performs well in text classification and spam filtering.\n",
    "\n",
    "### Disadvantages: Assumes feature independence, which is often unrealistic. Can be outperformed by more complex models when dependencies exist. Struggles with zero-frequency problems (solved by Laplace Smoothing).\n",
    "\n",
    "\n",
    "# 18: Why is Naïve Bayes a good choice for text classification?\n",
    "\n",
    "\n",
    "### Naïve Bayes is a good choice for text classification because:\n",
    "### It handles high-dimensional data (e.g., word counts) efficiently.\n",
    "### It works well with sparse data (e.g., most words in a document are absent).\n",
    "### It is computationally fast and scales well to large datasets.\n",
    "### It performs well even with small training datasets."
   ]
  },
  {
   "cell_type": "markdown",
   "id": "24bb1c78",
   "metadata": {},
   "source": [
    "# 19: Compare SVM and Naïve Bayes for classification tasks?\n",
    "\n",
    "\n",
    "### SVM is a powerful, versatile algorithm that works well for both linear and non-linear classification by finding the optimal hyperplane to separate classes, making it suitable for small to medium datasets with complex boundaries. However, it can be computationally expensive for large datasets. Naïve Bayes, on the other hand, is simple, fast, and efficient, especially for high-dimensional and sparse data like text, but it assumes feature independence, which can limit its performance on datasets with strong feature dependencies. While SVM excels in accuracy for complex tasks, Naïve Bayes is preferred for text classification and scenarios requiring quick, scalable solutions.\n",
    "\n",
    "\n",
    "# 20: How does Laplace Smoothing help in Naïve Bayes?\n",
    "\n",
    "\n",
    "### Laplace Smoothing (or add-one smoothing) is used to handle zero-frequency problems in Naïve Bayes. When a feature value does not occur in the training data for a particular class, its probability estimate becomes zero, which can lead to incorrect predictions. Laplace Smoothing adds a small constant (usually 1) to the count of each feature, ensuring that no probability is zero. This stabilizes the model and improves generalization."
   ]
  },
  {
   "cell_type": "markdown",
   "id": "1c7e07f1",
   "metadata": {},
   "source": [
    "# Practical"
   ]
  },
  {
   "cell_type": "markdown",
   "id": "16615ef7",
   "metadata": {},
   "source": [
    "# 21: Write a Python program to train an SVM Classifier on the Iris dataset and evaluate accuracy.\n"
   ]
  },
  {
   "cell_type": "code",
   "execution_count": 1,
   "id": "6f08a8d3",
   "metadata": {},
   "outputs": [
    {
     "name": "stdout",
     "output_type": "stream",
     "text": [
      "Accuracy of SVM Classifier on Iris dataset: 1.00\n"
     ]
    }
   ],
   "source": [
    "from sklearn import datasets\n",
    "from sklearn.model_selection import train_test_split\n",
    "from sklearn.svm import SVC\n",
    "from sklearn.metrics import accuracy_score\n",
    "\n",
    "# Load the Iris dataset\n",
    "iris = datasets.load_iris()\n",
    "X = iris.data\n",
    "y = iris.target\n",
    "\n",
    "# Split the dataset into training and testing sets\n",
    "X_train, X_test, y_train, y_test = train_test_split(X, y, test_size=0.3, random_state=42)\n",
    "\n",
    "# Train an SVM classifier\n",
    "svm_classifier = SVC(kernel='linear')\n",
    "svm_classifier.fit(X_train, y_train)\n",
    "\n",
    "# Make predictions on the test set\n",
    "y_pred = svm_classifier.predict(X_test)\n",
    "\n",
    "# Evaluate the accuracy\n",
    "accuracy = accuracy_score(y_test, y_pred)\n",
    "print(f\"Accuracy of SVM Classifier on Iris dataset: {accuracy:.2f}\")"
   ]
  },
  {
   "cell_type": "markdown",
   "id": "81c90397",
   "metadata": {},
   "source": [
    "# 22: Write a Python program to train two SVM classifiers with Linear and RBF kernels on the Wine dataset, then compare their accuracies.\n"
   ]
  },
  {
   "cell_type": "code",
   "execution_count": 2,
   "id": "2ae11b48",
   "metadata": {},
   "outputs": [
    {
     "name": "stdout",
     "output_type": "stream",
     "text": [
      "Accuracy of SVM with Linear Kernel on Wine dataset: 0.98\n",
      "Accuracy of SVM with RBF Kernel on Wine dataset: 0.76\n"
     ]
    }
   ],
   "source": [
    "from sklearn import datasets\n",
    "from sklearn.model_selection import train_test_split\n",
    "from sklearn.svm import SVC\n",
    "from sklearn.metrics import accuracy_score\n",
    "\n",
    "# Load the Wine dataset\n",
    "wine = datasets.load_wine()\n",
    "X = wine.data\n",
    "y = wine.target\n",
    "\n",
    "# Split the dataset into training and testing sets\n",
    "X_train, X_test, y_train, y_test = train_test_split(X, y, test_size=0.3, random_state=42)\n",
    "\n",
    "# Train SVM classifiers with Linear and RBF kernels\n",
    "svm_linear = SVC(kernel='linear')\n",
    "svm_rbf = SVC(kernel='rbf')\n",
    "\n",
    "svm_linear.fit(X_train, y_train)\n",
    "svm_rbf.fit(X_train, y_train)\n",
    "\n",
    "# Make predictions on the test set\n",
    "y_pred_linear = svm_linear.predict(X_test)\n",
    "y_pred_rbf = svm_rbf.predict(X_test)\n",
    "\n",
    "# Evaluate the accuracies\n",
    "accuracy_linear = accuracy_score(y_test, y_pred_linear)\n",
    "accuracy_rbf = accuracy_score(y_test, y_pred_rbf)\n",
    "\n",
    "print(f\"Accuracy of SVM with Linear Kernel on Wine dataset: {accuracy_linear:.2f}\")\n",
    "print(f\"Accuracy of SVM with RBF Kernel on Wine dataset: {accuracy_rbf:.2f}\")"
   ]
  },
  {
   "cell_type": "markdown",
   "id": "243e4aac",
   "metadata": {},
   "source": [
    "# 23: Write a Python program to train an SVM Regressor (SVR) on a housing dataset and evaluate it using Mean Squared Error (MSE).\n"
   ]
  },
  {
   "cell_type": "code",
   "execution_count": 1,
   "id": "59ccc2fe",
   "metadata": {},
   "outputs": [
    {
     "name": "stdout",
     "output_type": "stream",
     "text": [
      "Mean Squared Error of SVM Regressor on California Housing dataset: 0.35\n"
     ]
    }
   ],
   "source": [
    "from sklearn.datasets import fetch_california_housing\n",
    "from sklearn.model_selection import train_test_split\n",
    "from sklearn.svm import SVR\n",
    "from sklearn.metrics import mean_squared_error\n",
    "from sklearn.preprocessing import StandardScaler\n",
    "\n",
    "# Load the California Housing dataset\n",
    "california = fetch_california_housing()\n",
    "X = california.data  # Features\n",
    "y = california.target  # Target (house prices)\n",
    "\n",
    "# Split the dataset into training and testing sets\n",
    "X_train, X_test, y_train, y_test = train_test_split(X, y, test_size=0.3, random_state=42)\n",
    "\n",
    "# Standardize the features (important for SVM)\n",
    "scaler = StandardScaler()\n",
    "X_train = scaler.fit_transform(X_train)\n",
    "X_test = scaler.transform(X_test)\n",
    "\n",
    "# Train an SVM Regressor (SVR) with an RBF kernel\n",
    "svr = SVR(kernel='rbf')\n",
    "svr.fit(X_train, y_train)\n",
    "\n",
    "# Make predictions on the test set\n",
    "y_pred = svr.predict(X_test)\n",
    "\n",
    "# Evaluate the model using Mean Squared Error (MSE)\n",
    "mse = mean_squared_error(y_test, y_pred)\n",
    "print(f\"Mean Squared Error of SVM Regressor on California Housing dataset: {mse:.2f}\")"
   ]
  },
  {
   "cell_type": "markdown",
   "id": "4242d3c1",
   "metadata": {},
   "source": [
    "# 24: Write a Python program to train an SVM Classifier with a Polynomial Kernel and visualize the decision boundary."
   ]
  },
  {
   "cell_type": "code",
   "execution_count": 2,
   "id": "bea594e8",
   "metadata": {},
   "outputs": [
    {
     "data": {
      "image/png": "[encoded data removed]",
      "text/plain": [
       "<Figure size 640x480 with 1 Axes>"
      ]
     },
     "metadata": {},
     "output_type": "display_data"
    }
   ],
   "source": [
    "import numpy as np\n",
    "import matplotlib.pyplot as plt\n",
    "from sklearn import datasets\n",
    "from sklearn.svm import SVC\n",
    "from sklearn.inspection import DecisionBoundaryDisplay\n",
    "\n",
    "# Load the Iris dataset (using only two features for visualization)\n",
    "iris = datasets.load_iris()\n",
    "X = iris.data[:, :2]  # Use only the first two features\n",
    "y = iris.target\n",
    "\n",
    "# Train an SVM Classifier with a Polynomial Kernel\n",
    "svm_classifier = SVC(kernel='poly', degree=3, C=1.0)\n",
    "svm_classifier.fit(X, y)\n",
    "\n",
    "# Create a meshgrid to plot the decision boundary\n",
    "x_min, x_max = X[:, 0].min() - 1, X[:, 0].max() + 1\n",
    "y_min, y_max = X[:, 1].min() - 1, X[:, 1].max() + 1\n",
    "xx, yy = np.meshgrid(np.arange(x_min, x_max, 0.02),\n",
    "                     np.arange(y_min, y_max, 0.02))\n",
    "\n",
    "# Predict the decision boundary\n",
    "Z = svm_classifier.predict(np.c_[xx.ravel(), yy.ravel()])\n",
    "Z = Z.reshape(xx.shape)\n",
    "\n",
    "# Plot the decision boundary and data points\n",
    "plt.contourf(xx, yy, Z, alpha=0.8, cmap=plt.cm.coolwarm)\n",
    "plt.scatter(X[:, 0], X[:, 1], c=y, edgecolors='k', cmap=plt.cm.coolwarm)\n",
    "plt.xlabel('Sepal Length')\n",
    "plt.ylabel('Sepal Width')\n",
    "plt.title('SVM Classifier with Polynomial Kernel Decision Boundary')\n",
    "plt.show()"
   ]
  },
  {
   "cell_type": "markdown",
   "id": "df7f07ed",
   "metadata": {},
   "source": [
    "# 25: Write a Python program to train a Gaussian Naïve Bayes classifier on the Breast Cancer dataset and  evaluate accuracy."
   ]
  },
  {
   "cell_type": "code",
   "execution_count": 4,
   "id": "0a757e75",
   "metadata": {},
   "outputs": [
    {
     "name": "stdout",
     "output_type": "stream",
     "text": [
      "Accuracy of Gaussian Naïve Bayes Classifier on Breast Cancer dataset: 0.94\n"
     ]
    }
   ],
   "source": [
    "from sklearn.datasets import load_breast_cancer\n",
    "from sklearn.model_selection import train_test_split\n",
    "from sklearn.naive_bayes import GaussianNB\n",
    "from sklearn.metrics import accuracy_score\n",
    "\n",
    "# Load the Breast Cancer dataset\n",
    "data = load_breast_cancer()\n",
    "X = data.data  # Features\n",
    "y = data.target  # Labels\n",
    "\n",
    "# Split the dataset into training and testing sets\n",
    "X_train, X_test, y_train, y_test = train_test_split(X, y, test_size=0.3, random_state=42)\n",
    "\n",
    "# Train a Gaussian Naïve Bayes classifier\n",
    "gnb = GaussianNB()\n",
    "gnb.fit(X_train, y_train)\n",
    "\n",
    "# Make predictions on the test set\n",
    "y_pred = gnb.predict(X_test)\n",
    "\n",
    "# Evaluate the accuracy\n",
    "accuracy = accuracy_score(y_test, y_pred)\n",
    "print(f\"Accuracy of Gaussian Naïve Bayes Classifier on Breast Cancer dataset: {accuracy:.2f}\")"
   ]
  },
  {
   "cell_type": "markdown",
   "id": "6aad6c09",
   "metadata": {},
   "source": [
    "# 26: Write a Python program to train a Multinomial Naïve Bayes classifier for text classification using the 20  Newsgroups dataset."
   ]
  },
  {
   "cell_type": "code",
   "execution_count": 5,
   "id": "0c2a6203",
   "metadata": {},
   "outputs": [
    {
     "name": "stdout",
     "output_type": "stream",
     "text": [
      "Accuracy of Multinomial Naïve Bayes Classifier on 20 Newsgroups dataset: 0.90\n",
      "\n",
      "Classification Report:\n",
      "                        precision    recall  f1-score   support\n",
      "\n",
      "           alt.atheism       0.99      0.73      0.84       252\n",
      "         comp.graphics       0.98      0.95      0.96       295\n",
      "               sci.med       0.99      0.92      0.95       299\n",
      "soc.religion.christian       0.74      0.99      0.84       282\n",
      "\n",
      "              accuracy                           0.90      1128\n",
      "             macro avg       0.92      0.90      0.90      1128\n",
      "          weighted avg       0.92      0.90      0.90      1128\n",
      "\n"
     ]
    }
   ],
   "source": [
    "from sklearn.datasets import fetch_20newsgroups\n",
    "from sklearn.feature_extraction.text import TfidfVectorizer\n",
    "from sklearn.naive_bayes import MultinomialNB\n",
    "from sklearn.pipeline import make_pipeline\n",
    "from sklearn.metrics import accuracy_score, classification_report\n",
    "\n",
    "# Load the 20 Newsgroups dataset\n",
    "categories = ['alt.atheism', 'soc.religion.christian', 'comp.graphics', 'sci.med']\n",
    "newsgroups = fetch_20newsgroups(subset='all', categories=categories, shuffle=True, random_state=42)\n",
    "\n",
    "# Split the dataset into training and testing sets\n",
    "X_train, X_test, y_train, y_test = train_test_split(newsgroups.data, newsgroups.target, test_size=0.3, random_state=42)\n",
    "\n",
    "# Create a pipeline for text classification\n",
    "model = make_pipeline(TfidfVectorizer(), MultinomialNB())\n",
    "\n",
    "# Train the model\n",
    "model.fit(X_train, y_train)\n",
    "\n",
    "# Make predictions on the test set\n",
    "y_pred = model.predict(X_test)\n",
    "\n",
    "# Evaluate the model\n",
    "accuracy = accuracy_score(y_test, y_pred)\n",
    "print(f\"Accuracy of Multinomial Naïve Bayes Classifier on 20 Newsgroups dataset: {accuracy:.2f}\")\n",
    "print(\"\\nClassification Report:\")\n",
    "print(classification_report(y_test, y_pred, target_names=newsgroups.target_names))"
   ]
  },
  {
   "cell_type": "markdown",
   "id": "aa2fc3ec",
   "metadata": {},
   "source": [
    "# 27. Write a Python program to train an SVM Classifier with different C values and compare the decision boundaries visually."
   ]
  },
  {
   "cell_type": "code",
   "execution_count": 2,
   "id": "376cd4be",
   "metadata": {},
   "outputs": [
    {
     "data": {
      "image/png": "[encoded data removed]",
      "text/plain": [
       "<Figure size 1500x1000 with 5 Axes>"
      ]
     },
     "metadata": {},
     "output_type": "display_data"
    }
   ],
   "source": [
    "import numpy as np\n",
    "import matplotlib.pyplot as plt\n",
    "from sklearn import svm\n",
    "from sklearn.datasets import make_blobs\n",
    "\n",
    "# Generate a synthetic dataset\n",
    "X, y = make_blobs(n_samples=100, centers=2, random_state=6)\n",
    "\n",
    "# Define a range of C values to test\n",
    "C_values = [0.01, 0.1, 1, 10, 100]\n",
    "\n",
    "# Create a meshgrid for plotting the decision boundaries\n",
    "x_min, x_max = X[:, 0].min() - 1, X[:, 0].max() + 1\n",
    "y_min, y_max = X[:, 1].min() - 1, X[:, 1].max() + 1\n",
    "xx, yy = np.meshgrid(np.arange(x_min, x_max, 0.02),\n",
    "                     np.arange(y_min, y_max, 0.02))\n",
    "\n",
    "# Plot the dataset and decision boundaries for each C value\n",
    "plt.figure(figsize=(15, 10))\n",
    "\n",
    "for i, C in enumerate(C_values):\n",
    "    # Train the SVM classifier\n",
    "    clf = svm.SVC(kernel='linear', C=C)\n",
    "    clf.fit(X, y)\n",
    "\n",
    "    # Plot the decision boundary\n",
    "    plt.subplot(2, 3, i + 1)\n",
    "    Z = clf.predict(np.c_[xx.ravel(), yy.ravel()])\n",
    "    Z = Z.reshape(xx.shape)\n",
    "    plt.contourf(xx, yy, Z, alpha=0.8, cmap=plt.cm.coolwarm)\n",
    "    plt.scatter(X[:, 0], X[:, 1], c=y, cmap=plt.cm.coolwarm, edgecolors='k')\n",
    "    plt.title(f'SVM with C={C}')\n",
    "    plt.xlabel('Feature 1')\n",
    "    plt.ylabel('Feature 2')\n",
    "\n",
    "plt.tight_layout()\n",
    "plt.show()"
   ]
  },
  {
   "cell_type": "markdown",
   "id": "933cc5a3",
   "metadata": {},
   "source": [
    "# 28. Write a Python program to train a Bernoulli Naïve Bayes classifier for binary classification on a dataset with binary features.\n"
   ]
  },
  {
   "cell_type": "code",
   "execution_count": 3,
   "id": "ddf13a19",
   "metadata": {},
   "outputs": [
    {
     "name": "stdout",
     "output_type": "stream",
     "text": [
      "Accuracy: 0.40\n",
      "Classification Report:\n",
      "              precision    recall  f1-score   support\n",
      "\n",
      "           0       0.41      0.78      0.54        18\n",
      "           1       0.33      0.09      0.14        22\n",
      "\n",
      "    accuracy                           0.40        40\n",
      "   macro avg       0.37      0.43      0.34        40\n",
      "weighted avg       0.37      0.40      0.32        40\n",
      "\n"
     ]
    }
   ],
   "source": [
    "import numpy as np\n",
    "import matplotlib.pyplot as plt\n",
    "from sklearn.naive_bayes import BernoulliNB\n",
    "from sklearn.model_selection import train_test_split\n",
    "from sklearn.metrics import accuracy_score, classification_report\n",
    "\n",
    "# Generate synthetic binary dataset\n",
    "np.random.seed(42)\n",
    "X = np.random.randint(2, size=(200, 5))  # 200 samples, 5 binary features\n",
    "y = np.random.randint(2, size=200)  # Binary target variable\n",
    "\n",
    "# Split dataset into training and testing sets\n",
    "X_train, X_test, y_train, y_test = train_test_split(X, y, test_size=0.2, random_state=42)\n",
    "\n",
    "# Train Bernoulli Naïve Bayes classifier\n",
    "model = BernoulliNB()\n",
    "model.fit(X_train, y_train)\n",
    "\n",
    "# Make predictions\n",
    "y_pred = model.predict(X_test)\n",
    "\n",
    "# Evaluate the model\n",
    "accuracy = accuracy_score(y_test, y_pred)\n",
    "print(f'Accuracy: {accuracy:.2f}')\n",
    "print('Classification Report:')\n",
    "print(classification_report(y_test, y_pred))\n"
   ]
  },
  {
   "cell_type": "markdown",
   "id": "c9ce2fba",
   "metadata": {},
   "source": [
    "# 29. Write a Python program to apply feature scaling before training an SVM model and compare results with unscaled data."
   ]
  },
  {
   "cell_type": "code",
   "execution_count": 4,
   "id": "3b8e5f30",
   "metadata": {},
   "outputs": [
    {
     "name": "stdout",
     "output_type": "stream",
     "text": [
      "Accuracy without Scaling: 0.85\n",
      "Accuracy with Scaling: 0.85\n"
     ]
    }
   ],
   "source": [
    "import numpy as np\n",
    "import matplotlib.pyplot as plt\n",
    "from sklearn import svm, datasets\n",
    "from sklearn.model_selection import train_test_split\n",
    "from sklearn.preprocessing import StandardScaler\n",
    "from sklearn.metrics import accuracy_score\n",
    "\n",
    "# Load dataset\n",
    "X, y = datasets.make_classification(n_samples=200, n_features=2, n_classes=2, \n",
    "                                    n_clusters_per_class=1, n_redundant=0, random_state=42)\n",
    "\n",
    "# Split dataset\n",
    "X_train, X_test, y_train, y_test = train_test_split(X, y, test_size=0.2, random_state=42)\n",
    "\n",
    "# Train SVM without scaling\n",
    "model_unscaled = svm.SVC(kernel='linear')\n",
    "model_unscaled.fit(X_train, y_train)\n",
    "y_pred_unscaled = model_unscaled.predict(X_test)\n",
    "accuracy_unscaled = accuracy_score(y_test, y_pred_unscaled)\n",
    "\n",
    "# Apply feature scaling\n",
    "scaler = StandardScaler()\n",
    "X_train_scaled = scaler.fit_transform(X_train)\n",
    "X_test_scaled = scaler.transform(X_test)\n",
    "\n",
    "# Train SVM with scaled data\n",
    "model_scaled = svm.SVC(kernel='linear')\n",
    "model_scaled.fit(X_train_scaled, y_train)\n",
    "y_pred_scaled = model_scaled.predict(X_test_scaled)\n",
    "accuracy_scaled = accuracy_score(y_test, y_pred_scaled)\n",
    "\n",
    "# Print results\n",
    "print(f'Accuracy without Scaling: {accuracy_unscaled:.2f}')\n",
    "print(f'Accuracy with Scaling: {accuracy_scaled:.2f}')\n"
   ]
  },
  {
   "cell_type": "markdown",
   "id": "cf9958cc",
   "metadata": {},
   "source": [
    "# 30. Write a Python program to train a Gaussian Naïve Bayes model and compare the predictions before and after Laplace Smoothing."
   ]
  },
  {
   "cell_type": "code",
   "execution_count": 5,
   "id": "aa69b120",
   "metadata": {},
   "outputs": [
    {
     "name": "stdout",
     "output_type": "stream",
     "text": [
      "Accuracy without Laplace smoothing: 0.98\n",
      "Accuracy with Laplace smoothing: 0.98\n"
     ]
    }
   ],
   "source": [
    "from sklearn.naive_bayes import GaussianNB\n",
    "from sklearn.datasets import load_iris\n",
    "from sklearn.model_selection import train_test_split\n",
    "from sklearn.metrics import accuracy_score\n",
    "\n",
    "# Load dataset\n",
    "data = load_iris()\n",
    "X, y = data.data, data.target\n",
    "\n",
    "# Split dataset\n",
    "X_train, X_test, y_train, y_test = train_test_split(X, y, test_size=0.3, random_state=42)\n",
    "\n",
    "# Train Gaussian Naïve Bayes without Laplace smoothing\n",
    "gnb = GaussianNB(var_smoothing=0)  # No smoothing\n",
    "gnb.fit(X_train, y_train)\n",
    "y_pred_no_smoothing = gnb.predict(X_test)\n",
    "accuracy_no_smoothing = accuracy_score(y_test, y_pred_no_smoothing)\n",
    "\n",
    "# Train Gaussian Naïve Bayes with Laplace smoothing (var_smoothing > 0)\n",
    "gnb_smooth = GaussianNB(var_smoothing=1e-9)  # Small smoothing\n",
    "gnb_smooth.fit(X_train, y_train)\n",
    "y_pred_smoothing = gnb_smooth.predict(X_test)\n",
    "accuracy_smoothing = accuracy_score(y_test, y_pred_smoothing)\n",
    "\n",
    "# Compare results\n",
    "print(f\"Accuracy without Laplace smoothing: {accuracy_no_smoothing:.2f}\")\n",
    "print(f\"Accuracy with Laplace smoothing: {accuracy_smoothing:.2f}\")"
   ]
  },
  {
   "cell_type": "markdown",
   "id": "049041b7",
   "metadata": {},
   "source": [
    "# 31. Write a Python program to train an SVM Classifier and use GridSearchCV to tune the hyperparameters (C, gamma, kernel).\n"
   ]
  },
  {
   "cell_type": "code",
   "execution_count": 6,
   "id": "883ff4ae",
   "metadata": {},
   "outputs": [
    {
     "name": "stdout",
     "output_type": "stream",
     "text": [
      "Fitting 5 folds for each of 32 candidates, totalling 160 fits\n",
      "[CV] END ......................C=0.1, gamma=1, kernel=linear; total time=   0.0s\n",
      "[CV] END ......................C=0.1, gamma=1, kernel=linear; total time=   0.0s\n",
      "[CV] END ......................C=0.1, gamma=1, kernel=linear; total time=   0.0s\n",
      "[CV] END ......................C=0.1, gamma=1, kernel=linear; total time=   0.0s\n",
      "[CV] END ......................C=0.1, gamma=1, kernel=linear; total time=   0.0s\n",
      "[CV] END .........................C=0.1, gamma=1, kernel=rbf; total time=   0.0s\n",
      "[CV] END .........................C=0.1, gamma=1, kernel=rbf; total time=   0.0s\n",
      "[CV] END .........................C=0.1, gamma=1, kernel=rbf; total time=   0.0s\n",
      "[CV] END .........................C=0.1, gamma=1, kernel=rbf; total time=   0.0s\n",
      "[CV] END .........................C=0.1, gamma=1, kernel=rbf; total time=   0.0s\n",
      "[CV] END ....................C=0.1, gamma=0.1, kernel=linear; total time=   0.0s\n",
      "[CV] END ....................C=0.1, gamma=0.1, kernel=linear; total time=   0.0s\n",
      "[CV] END ....................C=0.1, gamma=0.1, kernel=linear; total time=   0.0s\n",
      "[CV] END ....................C=0.1, gamma=0.1, kernel=linear; total time=   0.0s\n",
      "[CV] END ....................C=0.1, gamma=0.1, kernel=linear; total time=   0.0s\n",
      "[CV] END .......................C=0.1, gamma=0.1, kernel=rbf; total time=   0.0s\n",
      "[CV] END .......................C=0.1, gamma=0.1, kernel=rbf; total time=   0.0s\n",
      "[CV] END .......................C=0.1, gamma=0.1, kernel=rbf; total time=   0.0s\n",
      "[CV] END .......................C=0.1, gamma=0.1, kernel=rbf; total time=   0.0s\n",
      "[CV] END .......................C=0.1, gamma=0.1, kernel=rbf; total time=   0.0s\n",
      "[CV] END ...................C=0.1, gamma=0.01, kernel=linear; total time=   0.0s\n",
      "[CV] END ...................C=0.1, gamma=0.01, kernel=linear; total time=   0.0s\n",
      "[CV] END ...................C=0.1, gamma=0.01, kernel=linear; total time=   0.0s\n",
      "[CV] END ...................C=0.1, gamma=0.01, kernel=linear; total time=   0.0s\n",
      "[CV] END ...................C=0.1, gamma=0.01, kernel=linear; total time=   0.0s\n",
      "[CV] END ......................C=0.1, gamma=0.01, kernel=rbf; total time=   0.0s\n",
      "[CV] END ......................C=0.1, gamma=0.01, kernel=rbf; total time=   0.0s\n",
      "[CV] END ......................C=0.1, gamma=0.01, kernel=rbf; total time=   0.0s\n",
      "[CV] END ......................C=0.1, gamma=0.01, kernel=rbf; total time=   0.0s\n",
      "[CV] END ......................C=0.1, gamma=0.01, kernel=rbf; total time=   0.0s\n",
      "[CV] END ..................C=0.1, gamma=0.001, kernel=linear; total time=   0.0s\n",
      "[CV] END ..................C=0.1, gamma=0.001, kernel=linear; total time=   0.0s\n",
      "[CV] END ..................C=0.1, gamma=0.001, kernel=linear; total time=   0.0s\n",
      "[CV] END ..................C=0.1, gamma=0.001, kernel=linear; total time=   0.0s\n",
      "[CV] END ..................C=0.1, gamma=0.001, kernel=linear; total time=   0.0s\n",
      "[CV] END .....................C=0.1, gamma=0.001, kernel=rbf; total time=   0.0s\n",
      "[CV] END .....................C=0.1, gamma=0.001, kernel=rbf; total time=   0.0s\n",
      "[CV] END .....................C=0.1, gamma=0.001, kernel=rbf; total time=   0.0s\n",
      "[CV] END .....................C=0.1, gamma=0.001, kernel=rbf; total time=   0.0s\n",
      "[CV] END .....................C=0.1, gamma=0.001, kernel=rbf; total time=   0.0s\n",
      "[CV] END ........................C=1, gamma=1, kernel=linear; total time=   0.0s\n",
      "[CV] END ........................C=1, gamma=1, kernel=linear; total time=   0.0s\n",
      "[CV] END ........................C=1, gamma=1, kernel=linear; total time=   0.0s\n",
      "[CV] END ........................C=1, gamma=1, kernel=linear; total time=   0.0s\n",
      "[CV] END ........................C=1, gamma=1, kernel=linear; total time=   0.0s\n",
      "[CV] END ...........................C=1, gamma=1, kernel=rbf; total time=   0.0s\n",
      "[CV] END ...........................C=1, gamma=1, kernel=rbf; total time=   0.0s\n",
      "[CV] END ...........................C=1, gamma=1, kernel=rbf; total time=   0.0s\n",
      "[CV] END ...........................C=1, gamma=1, kernel=rbf; total time=   0.0s\n",
      "[CV] END ...........................C=1, gamma=1, kernel=rbf; total time=   0.0s\n",
      "[CV] END ......................C=1, gamma=0.1, kernel=linear; total time=   0.0s\n",
      "[CV] END ......................C=1, gamma=0.1, kernel=linear; total time=   0.0s\n",
      "[CV] END ......................C=1, gamma=0.1, kernel=linear; total time=   0.0s\n",
      "[CV] END ......................C=1, gamma=0.1, kernel=linear; total time=   0.0s\n",
      "[CV] END ......................C=1, gamma=0.1, kernel=linear; total time=   0.0s\n",
      "[CV] END .........................C=1, gamma=0.1, kernel=rbf; total time=   0.0s\n",
      "[CV] END .........................C=1, gamma=0.1, kernel=rbf; total time=   0.0s\n",
      "[CV] END .........................C=1, gamma=0.1, kernel=rbf; total time=   0.0s\n",
      "[CV] END .........................C=1, gamma=0.1, kernel=rbf; total time=   0.0s\n",
      "[CV] END .........................C=1, gamma=0.1, kernel=rbf; total time=   0.0s\n",
      "[CV] END .....................C=1, gamma=0.01, kernel=linear; total time=   0.0s\n",
      "[CV] END .....................C=1, gamma=0.01, kernel=linear; total time=   0.0s\n",
      "[CV] END .....................C=1, gamma=0.01, kernel=linear; total time=   0.0s\n",
      "[CV] END .....................C=1, gamma=0.01, kernel=linear; total time=   0.0s\n",
      "[CV] END .....................C=1, gamma=0.01, kernel=linear; total time=   0.0s\n",
      "[CV] END ........................C=1, gamma=0.01, kernel=rbf; total time=   0.2s\n",
      "[CV] END ........................C=1, gamma=0.01, kernel=rbf; total time=   0.0s\n",
      "[CV] END ........................C=1, gamma=0.01, kernel=rbf; total time=   0.0s\n",
      "[CV] END ........................C=1, gamma=0.01, kernel=rbf; total time=   0.0s\n",
      "[CV] END ........................C=1, gamma=0.01, kernel=rbf; total time=   0.0s\n",
      "[CV] END ....................C=1, gamma=0.001, kernel=linear; total time=   0.0s\n",
      "[CV] END ....................C=1, gamma=0.001, kernel=linear; total time=   0.0s\n",
      "[CV] END ....................C=1, gamma=0.001, kernel=linear; total time=   0.0s\n",
      "[CV] END ....................C=1, gamma=0.001, kernel=linear; total time=   0.0s\n",
      "[CV] END ....................C=1, gamma=0.001, kernel=linear; total time=   0.0s\n",
      "[CV] END .......................C=1, gamma=0.001, kernel=rbf; total time=   0.0s\n",
      "[CV] END .......................C=1, gamma=0.001, kernel=rbf; total time=   0.0s\n",
      "[CV] END .......................C=1, gamma=0.001, kernel=rbf; total time=   0.0s\n",
      "[CV] END .......................C=1, gamma=0.001, kernel=rbf; total time=   0.0s\n",
      "[CV] END .......................C=1, gamma=0.001, kernel=rbf; total time=   0.0s\n",
      "[CV] END .......................C=10, gamma=1, kernel=linear; total time=   0.0s\n",
      "[CV] END .......................C=10, gamma=1, kernel=linear; total time=   0.0s\n",
      "[CV] END .......................C=10, gamma=1, kernel=linear; total time=   0.0s\n",
      "[CV] END .......................C=10, gamma=1, kernel=linear; total time=   0.0s\n",
      "[CV] END .......................C=10, gamma=1, kernel=linear; total time=   0.0s\n",
      "[CV] END ..........................C=10, gamma=1, kernel=rbf; total time=   0.0s\n",
      "[CV] END ..........................C=10, gamma=1, kernel=rbf; total time=   0.0s\n",
      "[CV] END ..........................C=10, gamma=1, kernel=rbf; total time=   0.0s\n",
      "[CV] END ..........................C=10, gamma=1, kernel=rbf; total time=   0.0s\n",
      "[CV] END ..........................C=10, gamma=1, kernel=rbf; total time=   0.0s\n",
      "[CV] END .....................C=10, gamma=0.1, kernel=linear; total time=   0.0s\n",
      "[CV] END .....................C=10, gamma=0.1, kernel=linear; total time=   0.0s\n",
      "[CV] END .....................C=10, gamma=0.1, kernel=linear; total time=   0.0s\n",
      "[CV] END .....................C=10, gamma=0.1, kernel=linear; total time=   0.0s\n",
      "[CV] END .....................C=10, gamma=0.1, kernel=linear; total time=   0.0s\n",
      "[CV] END ........................C=10, gamma=0.1, kernel=rbf; total time=   0.0s\n",
      "[CV] END ........................C=10, gamma=0.1, kernel=rbf; total time=   0.0s\n",
      "[CV] END ........................C=10, gamma=0.1, kernel=rbf; total time=   0.0s\n",
      "[CV] END ........................C=10, gamma=0.1, kernel=rbf; total time=   0.0s\n",
      "[CV] END ........................C=10, gamma=0.1, kernel=rbf; total time=   0.0s\n",
      "[CV] END ....................C=10, gamma=0.01, kernel=linear; total time=   0.0s\n",
      "[CV] END ....................C=10, gamma=0.01, kernel=linear; total time=   0.0s\n",
      "[CV] END ....................C=10, gamma=0.01, kernel=linear; total time=   0.0s\n",
      "[CV] END ....................C=10, gamma=0.01, kernel=linear; total time=   0.0s\n",
      "[CV] END ....................C=10, gamma=0.01, kernel=linear; total time=   0.0s\n",
      "[CV] END .......................C=10, gamma=0.01, kernel=rbf; total time=   0.0s\n",
      "[CV] END .......................C=10, gamma=0.01, kernel=rbf; total time=   0.0s\n",
      "[CV] END .......................C=10, gamma=0.01, kernel=rbf; total time=   0.0s\n",
      "[CV] END .......................C=10, gamma=0.01, kernel=rbf; total time=   0.0s\n",
      "[CV] END .......................C=10, gamma=0.01, kernel=rbf; total time=   0.0s\n",
      "[CV] END ...................C=10, gamma=0.001, kernel=linear; total time=   0.0s\n",
      "[CV] END ...................C=10, gamma=0.001, kernel=linear; total time=   0.0s\n",
      "[CV] END ...................C=10, gamma=0.001, kernel=linear; total time=   0.0s\n",
      "[CV] END ...................C=10, gamma=0.001, kernel=linear; total time=   0.0s\n",
      "[CV] END ...................C=10, gamma=0.001, kernel=linear; total time=   0.0s\n",
      "[CV] END ......................C=10, gamma=0.001, kernel=rbf; total time=   0.0s\n",
      "[CV] END ......................C=10, gamma=0.001, kernel=rbf; total time=   0.0s\n",
      "[CV] END ......................C=10, gamma=0.001, kernel=rbf; total time=   0.0s\n",
      "[CV] END ......................C=10, gamma=0.001, kernel=rbf; total time=   0.0s\n",
      "[CV] END ......................C=10, gamma=0.001, kernel=rbf; total time=   0.0s\n",
      "[CV] END ......................C=100, gamma=1, kernel=linear; total time=   0.0s\n",
      "[CV] END ......................C=100, gamma=1, kernel=linear; total time=   0.0s\n",
      "[CV] END ......................C=100, gamma=1, kernel=linear; total time=   0.0s\n",
      "[CV] END ......................C=100, gamma=1, kernel=linear; total time=   0.0s\n",
      "[CV] END ......................C=100, gamma=1, kernel=linear; total time=   0.0s\n",
      "[CV] END .........................C=100, gamma=1, kernel=rbf; total time=   0.0s\n",
      "[CV] END .........................C=100, gamma=1, kernel=rbf; total time=   0.0s\n",
      "[CV] END .........................C=100, gamma=1, kernel=rbf; total time=   0.0s\n",
      "[CV] END .........................C=100, gamma=1, kernel=rbf; total time=   0.0s\n",
      "[CV] END .........................C=100, gamma=1, kernel=rbf; total time=   0.0s\n",
      "[CV] END ....................C=100, gamma=0.1, kernel=linear; total time=   0.0s\n",
      "[CV] END ....................C=100, gamma=0.1, kernel=linear; total time=   0.0s\n",
      "[CV] END ....................C=100, gamma=0.1, kernel=linear; total time=   0.0s\n",
      "[CV] END ....................C=100, gamma=0.1, kernel=linear; total time=   0.0s\n",
      "[CV] END ....................C=100, gamma=0.1, kernel=linear; total time=   0.0s\n",
      "[CV] END .......................C=100, gamma=0.1, kernel=rbf; total time=   0.0s\n",
      "[CV] END .......................C=100, gamma=0.1, kernel=rbf; total time=   0.0s\n",
      "[CV] END .......................C=100, gamma=0.1, kernel=rbf; total time=   0.0s\n",
      "[CV] END .......................C=100, gamma=0.1, kernel=rbf; total time=   0.0s\n",
      "[CV] END .......................C=100, gamma=0.1, kernel=rbf; total time=   0.0s\n",
      "[CV] END ...................C=100, gamma=0.01, kernel=linear; total time=   0.0s\n",
      "[CV] END ...................C=100, gamma=0.01, kernel=linear; total time=   0.0s\n",
      "[CV] END ...................C=100, gamma=0.01, kernel=linear; total time=   0.0s\n",
      "[CV] END ...................C=100, gamma=0.01, kernel=linear; total time=   0.0s\n",
      "[CV] END ...................C=100, gamma=0.01, kernel=linear; total time=   0.0s\n",
      "[CV] END ......................C=100, gamma=0.01, kernel=rbf; total time=   0.0s\n",
      "[CV] END ......................C=100, gamma=0.01, kernel=rbf; total time=   0.0s\n",
      "[CV] END ......................C=100, gamma=0.01, kernel=rbf; total time=   0.0s\n",
      "[CV] END ......................C=100, gamma=0.01, kernel=rbf; total time=   0.0s\n",
      "[CV] END ......................C=100, gamma=0.01, kernel=rbf; total time=   0.0s\n",
      "[CV] END ..................C=100, gamma=0.001, kernel=linear; total time=   0.0s\n",
      "[CV] END ..................C=100, gamma=0.001, kernel=linear; total time=   0.0s\n",
      "[CV] END ..................C=100, gamma=0.001, kernel=linear; total time=   0.0s\n",
      "[CV] END ..................C=100, gamma=0.001, kernel=linear; total time=   0.0s\n",
      "[CV] END ..................C=100, gamma=0.001, kernel=linear; total time=   0.0s\n",
      "[CV] END .....................C=100, gamma=0.001, kernel=rbf; total time=   0.0s\n",
      "[CV] END .....................C=100, gamma=0.001, kernel=rbf; total time=   0.0s\n",
      "[CV] END .....................C=100, gamma=0.001, kernel=rbf; total time=   0.0s\n",
      "[CV] END .....................C=100, gamma=0.001, kernel=rbf; total time=   0.0s\n",
      "[CV] END .....................C=100, gamma=0.001, kernel=rbf; total time=   0.0s\n",
      "Best parameters: {'C': 100, 'gamma': 0.01, 'kernel': 'rbf'}\n",
      "Accuracy: 1.00\n"
     ]
    }
   ],
   "source": [
    "from sklearn import svm\n",
    "from sklearn.datasets import load_iris\n",
    "from sklearn.model_selection import GridSearchCV, train_test_split\n",
    "from sklearn.metrics import accuracy_score\n",
    "\n",
    "# Load dataset\n",
    "data = load_iris()\n",
    "X, y = data.data, data.target\n",
    "\n",
    "# Split dataset\n",
    "X_train, X_test, y_train, y_test = train_test_split(X, y, test_size=0.3, random_state=42)\n",
    "\n",
    "# Define parameter grid\n",
    "param_grid = {\n",
    "    'C': [0.1, 1, 10, 100],\n",
    "    'gamma': [1, 0.1, 0.01, 0.001],\n",
    "    'kernel': ['linear', 'rbf']\n",
    "}\n",
    "\n",
    "# Initialize SVM and GridSearchCV\n",
    "svc = svm.SVC()\n",
    "grid_search = GridSearchCV(svc, param_grid, refit=True, verbose=2, cv=5)\n",
    "\n",
    "# Train the model\n",
    "grid_search.fit(X_train, y_train)\n",
    "\n",
    "# Best parameters and predictions\n",
    "print(f\"Best parameters: {grid_search.best_params_}\")\n",
    "y_pred = grid_search.predict(X_test)\n",
    "accuracy = accuracy_score(y_test, y_pred)\n",
    "print(f\"Accuracy: {accuracy:.2f}\")"
   ]
  },
  {
   "cell_type": "markdown",
   "id": "9bc543ff",
   "metadata": {},
   "source": [
    "# 32. Write a Python program to train an SVM Classifier on an imbalanced dataset and apply class weighting and check it improve accuracy.\n"
   ]
  },
  {
   "cell_type": "code",
   "execution_count": 7,
   "id": "62b1122b",
   "metadata": {},
   "outputs": [
    {
     "name": "stdout",
     "output_type": "stream",
     "text": [
      "Without class weighting:\n",
      "              precision    recall  f1-score   support\n",
      "\n",
      "           0       0.94      0.96      0.95       270\n",
      "           1       0.57      0.43      0.49        30\n",
      "\n",
      "    accuracy                           0.91       300\n",
      "   macro avg       0.75      0.70      0.72       300\n",
      "weighted avg       0.90      0.91      0.90       300\n",
      "\n",
      "With class weighting:\n",
      "              precision    recall  f1-score   support\n",
      "\n",
      "           0       0.97      0.86      0.91       270\n",
      "           1       0.37      0.73      0.49        30\n",
      "\n",
      "    accuracy                           0.85       300\n",
      "   macro avg       0.67      0.80      0.70       300\n",
      "weighted avg       0.91      0.85      0.87       300\n",
      "\n"
     ]
    }
   ],
   "source": [
    "from sklearn import svm\n",
    "from sklearn.datasets import make_classification\n",
    "from sklearn.model_selection import train_test_split\n",
    "from sklearn.metrics import accuracy_score, classification_report\n",
    "\n",
    "# Create an imbalanced dataset\n",
    "X, y = make_classification(n_samples=1000, n_features=20, n_classes=2, weights=[0.9, 0.1], random_state=42)\n",
    "\n",
    "# Split dataset\n",
    "X_train, X_test, y_train, y_test = train_test_split(X, y, test_size=0.3, random_state=42)\n",
    "\n",
    "# Train SVM without class weighting\n",
    "svc = svm.SVC(kernel='linear')\n",
    "svc.fit(X_train, y_train)\n",
    "y_pred = svc.predict(X_test)\n",
    "print(\"Without class weighting:\")\n",
    "print(classification_report(y_test, y_pred))\n",
    "\n",
    "# Train SVM with class weighting\n",
    "svc_weighted = svm.SVC(kernel='linear', class_weight='balanced')\n",
    "svc_weighted.fit(X_train, y_train)\n",
    "y_pred_weighted = svc_weighted.predict(X_test)\n",
    "print(\"With class weighting:\")\n",
    "print(classification_report(y_test, y_pred_weighted))"
   ]
  },
  {
   "cell_type": "markdown",
   "id": "487668f4",
   "metadata": {},
   "source": [
    "# 33. Write a Python program to implement a Naïve Bayes classifier for spam detection using email data.\n"
   ]
  },
  {
   "cell_type": "code",
   "execution_count": 8,
   "id": "8aeffff4",
   "metadata": {},
   "outputs": [
    {
     "name": "stdout",
     "output_type": "stream",
     "text": [
      "Classification Report:\n",
      "              precision    recall  f1-score   support\n",
      "\n",
      "           0       0.00      0.00      0.00       0.0\n",
      "           1       0.00      0.00      0.00       2.0\n",
      "\n",
      "    accuracy                           0.00       2.0\n",
      "   macro avg       0.00      0.00      0.00       2.0\n",
      "weighted avg       0.00      0.00      0.00       2.0\n",
      "\n"
     ]
    },
    {
     "name": "stderr",
     "output_type": "stream",
     "text": [
      "C:\\Users\\HP\\anaconda3\\Menu\\anaconda\\Lib\\site-packages\\sklearn\\metrics\\_classification.py:1344: UndefinedMetricWarning: Precision and F-score are ill-defined and being set to 0.0 in labels with no predicted samples. Use `zero_division` parameter to control this behavior.\n",
      "  _warn_prf(average, modifier, msg_start, len(result))\n",
      "C:\\Users\\HP\\anaconda3\\Menu\\anaconda\\Lib\\site-packages\\sklearn\\metrics\\_classification.py:1344: UndefinedMetricWarning: Recall and F-score are ill-defined and being set to 0.0 in labels with no true samples. Use `zero_division` parameter to control this behavior.\n",
      "  _warn_prf(average, modifier, msg_start, len(result))\n",
      "C:\\Users\\HP\\anaconda3\\Menu\\anaconda\\Lib\\site-packages\\sklearn\\metrics\\_classification.py:1344: UndefinedMetricWarning: Precision and F-score are ill-defined and being set to 0.0 in labels with no predicted samples. Use `zero_division` parameter to control this behavior.\n",
      "  _warn_prf(average, modifier, msg_start, len(result))\n",
      "C:\\Users\\HP\\anaconda3\\Menu\\anaconda\\Lib\\site-packages\\sklearn\\metrics\\_classification.py:1344: UndefinedMetricWarning: Recall and F-score are ill-defined and being set to 0.0 in labels with no true samples. Use `zero_division` parameter to control this behavior.\n",
      "  _warn_prf(average, modifier, msg_start, len(result))\n",
      "C:\\Users\\HP\\anaconda3\\Menu\\anaconda\\Lib\\site-packages\\sklearn\\metrics\\_classification.py:1344: UndefinedMetricWarning: Precision and F-score are ill-defined and being set to 0.0 in labels with no predicted samples. Use `zero_division` parameter to control this behavior.\n",
      "  _warn_prf(average, modifier, msg_start, len(result))\n",
      "C:\\Users\\HP\\anaconda3\\Menu\\anaconda\\Lib\\site-packages\\sklearn\\metrics\\_classification.py:1344: UndefinedMetricWarning: Recall and F-score are ill-defined and being set to 0.0 in labels with no true samples. Use `zero_division` parameter to control this behavior.\n",
      "  _warn_prf(average, modifier, msg_start, len(result))\n"
     ]
    }
   ],
   "source": [
    "from sklearn.naive_bayes import MultinomialNB\n",
    "from sklearn.feature_extraction.text import CountVectorizer\n",
    "from sklearn.model_selection import train_test_split\n",
    "from sklearn.metrics import accuracy_score, classification_report\n",
    "\n",
    "# Example email dataset\n",
    "emails = [\"free money now\", \"win a prize\", \"meeting schedule\", \"urgent project update\", \"lottery winner\"]\n",
    "labels = [1, 1, 0, 0, 1]  # 1 = spam, 0 = not spam\n",
    "\n",
    "# Convert text to features\n",
    "vectorizer = CountVectorizer()\n",
    "X = vectorizer.fit_transform(emails)\n",
    "\n",
    "# Split dataset\n",
    "X_train, X_test, y_train, y_test = train_test_split(X, labels, test_size=0.3, random_state=42)\n",
    "\n",
    "# Train Naïve Bayes classifier\n",
    "nb = MultinomialNB()\n",
    "nb.fit(X_train, y_train)\n",
    "\n",
    "# Predict and evaluate\n",
    "y_pred = nb.predict(X_test)\n",
    "print(\"Classification Report:\")\n",
    "print(classification_report(y_test, y_pred))"
   ]
  },
  {
   "cell_type": "markdown",
   "id": "ce44c32f",
   "metadata": {},
   "source": [
    "# 34. Write a Python program to train an SVM Classifier and a Naïve Bayes Classifier on the same dataset and compare their accuracy.\n"
   ]
  },
  {
   "cell_type": "code",
   "execution_count": 9,
   "id": "b8395663",
   "metadata": {},
   "outputs": [
    {
     "name": "stdout",
     "output_type": "stream",
     "text": [
      "SVM Accuracy: 1.00\n",
      "Naïve Bayes Accuracy: 0.98\n"
     ]
    }
   ],
   "source": [
    "from sklearn import svm\n",
    "from sklearn.naive_bayes import GaussianNB\n",
    "from sklearn.datasets import load_iris\n",
    "from sklearn.model_selection import train_test_split\n",
    "from sklearn.metrics import accuracy_score\n",
    "\n",
    "# Load dataset\n",
    "data = load_iris()\n",
    "X, y = data.data, data.target\n",
    "\n",
    "# Split dataset\n",
    "X_train, X_test, y_train, y_test = train_test_split(X, y, test_size=0.3, random_state=42)\n",
    "\n",
    "# Train SVM\n",
    "svc = svm.SVC(kernel='linear')\n",
    "svc.fit(X_train, y_train)\n",
    "y_pred_svm = svc.predict(X_test)\n",
    "accuracy_svm = accuracy_score(y_test, y_pred_svm)\n",
    "\n",
    "# Train Naïve Bayes\n",
    "nb = GaussianNB()\n",
    "nb.fit(X_train, y_train)\n",
    "y_pred_nb = nb.predict(X_test)\n",
    "accuracy_nb = accuracy_score(y_test, y_pred_nb)\n",
    "\n",
    "# Compare results\n",
    "print(f\"SVM Accuracy: {accuracy_svm:.2f}\")\n",
    "print(f\"Naïve Bayes Accuracy: {accuracy_nb:.2f}\")"
   ]
  },
  {
   "cell_type": "markdown",
   "id": "a28607b2",
   "metadata": {},
   "source": [
    "# 35. Write a Python program to perform feature selection before training a Naïve Bayes classifier and compare results."
   ]
  },
  {
   "cell_type": "code",
   "execution_count": 10,
   "id": "dff70648",
   "metadata": {},
   "outputs": [
    {
     "name": "stdout",
     "output_type": "stream",
     "text": [
      "Accuracy without feature selection: 0.98\n",
      "Accuracy with feature selection: 1.00\n"
     ]
    }
   ],
   "source": [
    "from sklearn.naive_bayes import GaussianNB\n",
    "from sklearn.datasets import load_iris\n",
    "from sklearn.model_selection import train_test_split\n",
    "from sklearn.feature_selection import SelectKBest, f_classif\n",
    "from sklearn.metrics import accuracy_score\n",
    "\n",
    "# Load dataset\n",
    "data = load_iris()\n",
    "X, y = data.data, data.target\n",
    "\n",
    "# Split dataset\n",
    "X_train, X_test, y_train, y_test = train_test_split(X, y, test_size=0.3, random_state=42)\n",
    "\n",
    "# Train without feature selection\n",
    "nb = GaussianNB()\n",
    "nb.fit(X_train, y_train)\n",
    "y_pred = nb.predict(X_test)\n",
    "accuracy = accuracy_score(y_test, y_pred)\n",
    "print(f\"Accuracy without feature selection: {accuracy:.2f}\")\n",
    "\n",
    "# Perform feature selection\n",
    "selector = SelectKBest(f_classif, k=2)  # Select top 2 features\n",
    "X_train_selected = selector.fit_transform(X_train, y_train)\n",
    "X_test_selected = selector.transform(X_test)\n",
    "\n",
    "# Train with feature selection\n",
    "nb_selected = GaussianNB()\n",
    "nb_selected.fit(X_train_selected, y_train)\n",
    "y_pred_selected = nb_selected.predict(X_test_selected)\n",
    "accuracy_selected = accuracy_score(y_test, y_pred_selected)\n",
    "print(f\"Accuracy with feature selection: {accuracy_selected:.2f}\")"
   ]
  },
  {
   "cell_type": "markdown",
   "id": "bf3e9b49",
   "metadata": {},
   "source": [
    "# 36. Write a Python program to train an SVM Classifier using One-vs-Rest (OvR) and One-vs-One (OvO) strategies on the Wine dataset and compare their accuracy."
   ]
  },
  {
   "cell_type": "code",
   "execution_count": 11,
   "id": "3877ee8a",
   "metadata": {},
   "outputs": [
    {
     "name": "stdout",
     "output_type": "stream",
     "text": [
      "Accuracy with OvR: 0.98\n",
      "Accuracy with OvO: 0.98\n"
     ]
    }
   ],
   "source": [
    "from sklearn.datasets import load_wine\n",
    "from sklearn.model_selection import train_test_split\n",
    "from sklearn.svm import SVC\n",
    "from sklearn.metrics import accuracy_score\n",
    "\n",
    "# Load Wine dataset\n",
    "data = load_wine()\n",
    "X, y = data.data, data.target\n",
    "\n",
    "# Split dataset\n",
    "X_train, X_test, y_train, y_test = train_test_split(X, y, test_size=0.3, random_state=42)\n",
    "\n",
    "# Train SVM with One-vs-Rest (OvR)\n",
    "svc_ovr = SVC(kernel='linear', decision_function_shape='ovr')\n",
    "svc_ovr.fit(X_train, y_train)\n",
    "y_pred_ovr = svc_ovr.predict(X_test)\n",
    "accuracy_ovr = accuracy_score(y_test, y_pred_ovr)\n",
    "\n",
    "# Train SVM with One-vs-One (OvO)\n",
    "svc_ovo = SVC(kernel='linear', decision_function_shape='ovo')\n",
    "svc_ovo.fit(X_train, y_train)\n",
    "y_pred_ovo = svc_ovo.predict(X_test)\n",
    "accuracy_ovo = accuracy_score(y_test, y_pred_ovo)\n",
    "\n",
    "# Compare results\n",
    "print(f\"Accuracy with OvR: {accuracy_ovr:.2f}\")\n",
    "print(f\"Accuracy with OvO: {accuracy_ovo:.2f}\")"
   ]
  },
  {
   "cell_type": "markdown",
   "id": "0834a658",
   "metadata": {},
   "source": [
    "# 37. Write a Python program to train an SVM Classifier using Linear, Polynomial, and RBF kernels on the Breast Cancer dataset and compare their accuracy.\n"
   ]
  },
  {
   "cell_type": "code",
   "execution_count": 12,
   "id": "c83012ff",
   "metadata": {},
   "outputs": [
    {
     "name": "stdout",
     "output_type": "stream",
     "text": [
      "Accuracy with linear kernel: 0.96\n",
      "Accuracy with poly kernel: 0.94\n",
      "Accuracy with rbf kernel: 0.94\n"
     ]
    }
   ],
   "source": [
    "from sklearn.datasets import load_breast_cancer\n",
    "from sklearn.model_selection import train_test_split\n",
    "from sklearn.svm import SVC\n",
    "from sklearn.metrics import accuracy_score\n",
    "\n",
    "# Load Breast Cancer dataset\n",
    "data = load_breast_cancer()\n",
    "X, y = data.data, data.target\n",
    "\n",
    "# Split dataset\n",
    "X_train, X_test, y_train, y_test = train_test_split(X, y, test_size=0.3, random_state=42)\n",
    "\n",
    "# Train SVM with different kernels\n",
    "kernels = ['linear', 'poly', 'rbf']\n",
    "for kernel in kernels:\n",
    "    svc = SVC(kernel=kernel)\n",
    "    svc.fit(X_train, y_train)\n",
    "    y_pred = svc.predict(X_test)\n",
    "    accuracy = accuracy_score(y_test, y_pred)\n",
    "    print(f\"Accuracy with {kernel} kernel: {accuracy:.2f}\")"
   ]
  },
  {
   "cell_type": "markdown",
   "id": "fb305112",
   "metadata": {},
   "source": [
    "# 38. Write a Python program to train an SVM Classifier using Stratified K-Fold Cross-Validation and compute the average accuracy.\n"
   ]
  },
  {
   "cell_type": "code",
   "execution_count": 13,
   "id": "dda75142",
   "metadata": {},
   "outputs": [
    {
     "name": "stdout",
     "output_type": "stream",
     "text": [
      "Average accuracy: 0.98\n"
     ]
    }
   ],
   "source": [
    "from sklearn.datasets import load_iris\n",
    "from sklearn.svm import SVC\n",
    "from sklearn.model_selection import cross_val_score\n",
    "\n",
    "# Load Iris dataset\n",
    "data = load_iris()\n",
    "X, y = data.data, data.target\n",
    "\n",
    "# Initialize SVM\n",
    "svc = SVC(kernel='linear')\n",
    "\n",
    "# Perform Stratified K-Fold Cross-Validation\n",
    "scores = cross_val_score(svc, X, y, cv=5, scoring='accuracy')\n",
    "\n",
    "# Compute average accuracy\n",
    "average_accuracy = scores.mean()\n",
    "print(f\"Average accuracy: {average_accuracy:.2f}\")"
   ]
  },
  {
   "cell_type": "markdown",
   "id": "11871e52",
   "metadata": {},
   "source": [
    "# 39. Write a Python program to train a Naïve Bayes classifier using different prior probabilities and compare performance.\n"
   ]
  },
  {
   "cell_type": "code",
   "execution_count": 14,
   "id": "cddda4fb",
   "metadata": {},
   "outputs": [
    {
     "name": "stdout",
     "output_type": "stream",
     "text": [
      "Accuracy with priors None: 0.98\n",
      "Accuracy with priors [0.1, 0.8, 0.1]: 1.00\n",
      "Accuracy with priors [0.2, 0.6, 0.2]: 1.00\n"
     ]
    }
   ],
   "source": [
    "from sklearn.datasets import load_iris\n",
    "from sklearn.naive_bayes import GaussianNB\n",
    "from sklearn.model_selection import train_test_split\n",
    "from sklearn.metrics import accuracy_score\n",
    "\n",
    "# Load Iris dataset\n",
    "data = load_iris()\n",
    "X, y = data.data, data.target\n",
    "\n",
    "# Split dataset\n",
    "X_train, X_test, y_train, y_test = train_test_split(X, y, test_size=0.3, random_state=42)\n",
    "\n",
    "# Train with different priors\n",
    "priors = [None, [0.1, 0.8, 0.1], [0.2, 0.6, 0.2]]\n",
    "for prior in priors:\n",
    "    nb = GaussianNB(priors=prior)\n",
    "    nb.fit(X_train, y_train)\n",
    "    y_pred = nb.predict(X_test)\n",
    "    accuracy = accuracy_score(y_test, y_pred)\n",
    "    print(f\"Accuracy with priors {prior}: {accuracy:.2f}\")"
   ]
  },
  {
   "cell_type": "markdown",
   "id": "8183026e",
   "metadata": {},
   "source": [
    "# 40. Write a Python program to perform Recursive Feature Elimination (RFE) before training an SVM Classifier and compare accuracy.\n"
   ]
  },
  {
   "cell_type": "code",
   "execution_count": 15,
   "id": "2175f200",
   "metadata": {},
   "outputs": [
    {
     "name": "stdout",
     "output_type": "stream",
     "text": [
      "Accuracy after RFE: 0.93\n"
     ]
    }
   ],
   "source": [
    "from sklearn.datasets import load_breast_cancer\n",
    "from sklearn.svm import SVC\n",
    "from sklearn.feature_selection import RFE\n",
    "from sklearn.model_selection import train_test_split\n",
    "from sklearn.metrics import accuracy_score\n",
    "\n",
    "# Load Breast Cancer dataset\n",
    "data = load_breast_cancer()\n",
    "X, y = data.data, data.target\n",
    "\n",
    "# Split dataset\n",
    "X_train, X_test, y_train, y_test = train_test_split(X, y, test_size=0.3, random_state=42)\n",
    "\n",
    "# Perform RFE\n",
    "svc = SVC(kernel='linear')\n",
    "rfe = RFE(svc, n_features_to_select=10)\n",
    "X_train_rfe = rfe.fit_transform(X_train, y_train)\n",
    "X_test_rfe = rfe.transform(X_test)\n",
    "\n",
    "# Train SVM\n",
    "svc.fit(X_train_rfe, y_train)\n",
    "y_pred = svc.predict(X_test_rfe)\n",
    "accuracy = accuracy_score(y_test, y_pred)\n",
    "print(f\"Accuracy after RFE: {accuracy:.2f}\")"
   ]
  },
  {
   "cell_type": "markdown",
   "id": "ece39eab",
   "metadata": {},
   "source": [
    "# 41.  Write a Python program to train an SVM Classifier and evaluate its performance using Precision, Recall, and F1-Score instead of accuracy.\n"
   ]
  },
  {
   "cell_type": "code",
   "execution_count": 16,
   "id": "90098434",
   "metadata": {},
   "outputs": [
    {
     "name": "stdout",
     "output_type": "stream",
     "text": [
      "Precision: 0.96, Recall: 0.98, F1-Score: 0.97\n"
     ]
    }
   ],
   "source": [
    "from sklearn.datasets import load_breast_cancer\n",
    "from sklearn.svm import SVC\n",
    "from sklearn.model_selection import train_test_split\n",
    "from sklearn.metrics import precision_score, recall_score, f1_score\n",
    "\n",
    "# Load Breast Cancer dataset\n",
    "data = load_breast_cancer()\n",
    "X, y = data.data, data.target\n",
    "\n",
    "# Split dataset\n",
    "X_train, X_test, y_train, y_test = train_test_split(X, y, test_size=0.3, random_state=42)\n",
    "\n",
    "# Train SVM\n",
    "svc = SVC(kernel='linear')\n",
    "svc.fit(X_train, y_train)\n",
    "y_pred = svc.predict(X_test)\n",
    "\n",
    "# Evaluate\n",
    "precision = precision_score(y_test, y_pred)\n",
    "recall = recall_score(y_test, y_pred)\n",
    "f1 = f1_score(y_test, y_pred)\n",
    "print(f\"Precision: {precision:.2f}, Recall: {recall:.2f}, F1-Score: {f1:.2f}\")"
   ]
  },
  {
   "cell_type": "markdown",
   "id": "aa4b7a70",
   "metadata": {},
   "source": [
    "# 42. Write a Python program to train a Naïve Bayes Classifier and evaluate its performance using Log Loss (Cross-Entropy Loss).\n"
   ]
  },
  {
   "cell_type": "code",
   "execution_count": 17,
   "id": "5b5619cd",
   "metadata": {},
   "outputs": [
    {
     "name": "stdout",
     "output_type": "stream",
     "text": [
      "Log Loss: 0.05\n"
     ]
    }
   ],
   "source": [
    "from sklearn.datasets import load_iris\n",
    "from sklearn.naive_bayes import GaussianNB\n",
    "from sklearn.model_selection import train_test_split\n",
    "from sklearn.metrics import log_loss\n",
    "\n",
    "# Load Iris dataset\n",
    "data = load_iris()\n",
    "X, y = data.data, data.target\n",
    "\n",
    "# Split dataset\n",
    "X_train, X_test, y_train, y_test = train_test_split(X, y, test_size=0.3, random_state=42)\n",
    "\n",
    "# Train Naïve Bayes\n",
    "nb = GaussianNB()\n",
    "nb.fit(X_train, y_train)\n",
    "y_pred_prob = nb.predict_proba(X_test)\n",
    "\n",
    "# Compute Log Loss\n",
    "loss = log_loss(y_test, y_pred_prob)\n",
    "print(f\"Log Loss: {loss:.2f}\")"
   ]
  },
  {
   "cell_type": "markdown",
   "id": "76ad2ec9",
   "metadata": {},
   "source": [
    "# 43. Write a Python program to train an SVM Classifier and visualize the Confusion Matrix using seaborn.\n"
   ]
  },
  {
   "cell_type": "code",
   "execution_count": 18,
   "id": "ecba4b99",
   "metadata": {},
   "outputs": [
    {
     "data": {
      "image/png": "[encoded data removed]",
      "text/plain": [
       "<Figure size 640x480 with 2 Axes>"
      ]
     },
     "metadata": {},
     "output_type": "display_data"
    }
   ],
   "source": [
    "import seaborn as sns\n",
    "import matplotlib.pyplot as plt\n",
    "from sklearn.datasets import load_breast_cancer\n",
    "from sklearn.svm import SVC\n",
    "from sklearn.model_selection import train_test_split\n",
    "from sklearn.metrics import confusion_matrix\n",
    "\n",
    "# Load Breast Cancer dataset\n",
    "data = load_breast_cancer()\n",
    "X, y = data.data, data.target\n",
    "\n",
    "# Split dataset\n",
    "X_train, X_test, y_train, y_test = train_test_split(X, y, test_size=0.3, random_state=42)\n",
    "\n",
    "# Train SVM\n",
    "svc = SVC(kernel='linear')\n",
    "svc.fit(X_train, y_train)\n",
    "y_pred = svc.predict(X_test)\n",
    "\n",
    "# Confusion Matrix\n",
    "cm = confusion_matrix(y_test, y_pred)\n",
    "sns.heatmap(cm, annot=True, fmt='d', cmap='Blues')\n",
    "plt.xlabel('Predicted')\n",
    "plt.ylabel('Actual')\n",
    "plt.show()"
   ]
  },
  {
   "cell_type": "markdown",
   "id": "b672d400",
   "metadata": {},
   "source": [
    "# 44. Write a Python program to train an SVM Regressor (SVR) and evaluate its performance using Mean Absolute Error (MAE) instead of MSE.\n"
   ]
  },
  {
   "cell_type": "code",
   "execution_count": 19,
   "id": "c15b22d6",
   "metadata": {},
   "outputs": [
    {
     "name": "stdout",
     "output_type": "stream",
     "text": [
      "Mean Absolute Error: 62.35\n"
     ]
    }
   ],
   "source": [
    "from sklearn.datasets import load_diabetes\n",
    "from sklearn.svm import SVR\n",
    "from sklearn.model_selection import train_test_split\n",
    "from sklearn.metrics import mean_absolute_error\n",
    "\n",
    "# Load Diabetes dataset\n",
    "data = load_diabetes()\n",
    "X, y = data.data, data.target\n",
    "\n",
    "# Split dataset\n",
    "X_train, X_test, y_train, y_test = train_test_split(X, y, test_size=0.3, random_state=42)\n",
    "\n",
    "# Train SVR\n",
    "svr = SVR(kernel='linear')\n",
    "svr.fit(X_train, y_train)\n",
    "y_pred = svr.predict(X_test)\n",
    "\n",
    "# Evaluate using MAE\n",
    "mae = mean_absolute_error(y_test, y_pred)\n",
    "print(f\"Mean Absolute Error: {mae:.2f}\")\n"
   ]
  },
  {
   "cell_type": "markdown",
   "id": "3ca1439f",
   "metadata": {},
   "source": [
    "# 45. Write a Python program to train a Naïve Bayes classifier and evaluate its performance using the ROC-AUC score.\n"
   ]
  },
  {
   "cell_type": "code",
   "execution_count": 20,
   "id": "8ce4974e",
   "metadata": {},
   "outputs": [
    {
     "name": "stdout",
     "output_type": "stream",
     "text": [
      "ROC-AUC Score: 0.99\n"
     ]
    }
   ],
   "source": [
    "from sklearn.datasets import load_breast_cancer\n",
    "from sklearn.naive_bayes import GaussianNB\n",
    "from sklearn.model_selection import train_test_split\n",
    "from sklearn.metrics import roc_auc_score\n",
    "\n",
    "# Load Breast Cancer dataset\n",
    "data = load_breast_cancer()\n",
    "X, y = data.data, data.target\n",
    "\n",
    "# Split dataset\n",
    "X_train, X_test, y_train, y_test = train_test_split(X, y, test_size=0.3, random_state=42)\n",
    "\n",
    "# Train Naïve Bayes\n",
    "nb = GaussianNB()\n",
    "nb.fit(X_train, y_train)\n",
    "y_pred_prob = nb.predict_proba(X_test)[:, 1]\n",
    "\n",
    "# Compute ROC-AUC Score\n",
    "roc_auc = roc_auc_score(y_test, y_pred_prob)\n",
    "print(f\"ROC-AUC Score: {roc_auc:.2f}\")"
   ]
  },
  {
   "cell_type": "markdown",
   "id": "f203c746",
   "metadata": {},
   "source": [
    "# 46. Write a Python program to train an SVM Classifier and visualize the Precision-Recall Curve."
   ]
  },
  {
   "cell_type": "code",
   "execution_count": 21,
   "id": "2bca289d",
   "metadata": {},
   "outputs": [
    {
     "data": {
      "image/png": "[encoded data removed]",
      "text/plain": [
       "<Figure size 640x480 with 1 Axes>"
      ]
     },
     "metadata": {},
     "output_type": "display_data"
    }
   ],
   "source": [
    "from sklearn.datasets import load_breast_cancer\n",
    "from sklearn.svm import SVC\n",
    "from sklearn.model_selection import train_test_split\n",
    "from sklearn.metrics import precision_recall_curve\n",
    "import matplotlib.pyplot as plt\n",
    "\n",
    "# Load Breast Cancer dataset\n",
    "data = load_breast_cancer()\n",
    "X, y = data.data, data.target\n",
    "\n",
    "# Split dataset\n",
    "X_train, X_test, y_train, y_test = train_test_split(X, y, test_size=0.3, random_state=42)\n",
    "\n",
    "# Train SVM\n",
    "svc = SVC(kernel='linear', probability=True)\n",
    "svc.fit(X_train, y_train)\n",
    "y_pred_prob = svc.predict_proba(X_test)[:, 1]\n",
    "\n",
    "# Precision-Recall Curve\n",
    "precision, recall, _ = precision_recall_curve(y_test, y_pred_prob)\n",
    "plt.plot(recall, precision, marker='.')\n",
    "plt.xlabel('Recall')\n",
    "plt.ylabel('Precision')\n",
    "plt.title('Precision-Recall Curve')\n",
    "plt.show()"
   ]
  },
  {
   "cell_type": "code",
   "execution_count": null,
   "id": "6e56802e",
   "metadata": {},
   "outputs": [],
   "source": []
  }
 ],
 "metadata": {
  "kernelspec": {
   "display_name": "Python 3 (ipykernel)",
   "language": "python",
   "name": "python3"
  },
  "language_info": {
   "codemirror_mode": {
    "name": "ipython",
    "version": 3
   },
   "file_extension": ".py",
   "mimetype": "text/x-python",
   "name": "python",
   "nbconvert_exporter": "python",
   "pygments_lexer": "ipython3",
   "version": "3.11.3"
  }
 },
 "nbformat": 4,
 "nbformat_minor": 5
}
